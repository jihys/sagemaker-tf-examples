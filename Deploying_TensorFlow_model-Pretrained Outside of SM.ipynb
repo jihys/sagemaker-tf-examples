{
 "cells": [
  {
   "cell_type": "markdown",
   "metadata": {},
   "source": [
    "# Deploy trained TensorFlow models using Amazon SageMaker\n",
    "\n",
    "본 노트북은 SageMaker TensorFlow Serving 컨테이너에서 실시간으로 추론(prediction)을 수행하는 방법을 보여줍니다.\n",
    "\n",
    "Amazon SageMaker를 사용하면 개발자 또는 데이터 과학자가 머신 러닝(ML) 모델을 보다 쉽게 구축, 학습 및 배포할 수 있습니다. \n",
    "SageMaker가 ML 모델의 전체 수명주기에서 차별화되지 않은 무거운 작업을 완화하도록 설계되었지만, Amazon SageMaker의 기능은 서로 독립적으로 사용할 수도 있습니다. 즉, Amazon SageMaker에서 학습된 모델은 Amazon SageMaker 외부 (또는 모바일 또는 IoT 장치의 클라우드 외부)에서 최적화되고 배포될 수 있습니다. 반대로, Amazon SageMaker는 model zoo나 여러분이 속한 팀의 팀원에게 사전에 학습된 모델을 전달받아 배포하고 호스팅할 수 있습니다.\n",
    "\n",
    "Amazon SageMaker는 여러분의 모델을 TensorFlow Serving 기반 서버로 배포합니다. 이 서버는 [TensorFlow Serving REST API](https://www.tensorflow.org/serving/api_rest)의 슈퍼셋(super-set)을 제공합니다.\n",
    "\n",
    "좀 더 자세히 말하자면, Amazon SageMaker python SDK는 Estimator 클래스의 `deploy()` 메서드를 사용해 SageMaker 모델을 만들고 엔드포인트(endpoint)에 배포 후, 실시간으로 예측 요청을 처리합니다.\n",
    "입력 데이터와 출력 데이터의 형식은 TensorFlow Serving REST API의 `Predict` 메소드의 요청과 응답의 형식에 직접 대응하고 있습니다. SageMaker의 TensforFlow Serving 엔드포인트는 JSON, 줄 바꿈 JSON 개체 (`'jsons'`또는 `'jsonlines'`), CSV 데이터 등 TensorFlow REST API의 일부가 아닌 추가 입력 형식도 받을 수 있습니다.\n",
    "\n",
    "Keras/TensorFlow 모델을 배포하기 위해서는, TensorFlow SavedModel 형식으로 모델을 저장해야 합니다. 본 실습은 학습 스크립트에서 이미 ```def save_model(model, output):```로 구현되어 있습니다. 더 많은 정보는 ```save_model``` 함수를 참조해 주세요."
   ]
  },
  {
   "cell_type": "markdown",
   "metadata": {},
   "source": [
    "## Deploy a Model that was trained outside of SM "
   ]
  },
  {
   "cell_type": "markdown",
   "metadata": {},
   "source": [
    "아래 링크 참고 \n",
    "https://sagemaker.readthedocs.io/en/stable/frameworks/tensorflow/using_tf.html"
   ]
  },
  {
   "cell_type": "markdown",
   "metadata": {},
   "source": [
    "Sagemaker Notebook이 아래 모델에 접근할 권한을 가지고 있어야함. \n",
    "\n",
    "```\n",
    "{\n",
    "    \"Version\": \"2012-10-17\",\n",
    "    \"Statement\": [\n",
    "        {\n",
    "            \"Effect\": \"Allow\",\n",
    "            \"Action\": [\n",
    "                \"s3:GetObject\",\n",
    "                \"s3:PutObject\",\n",
    "                \"s3:DeleteObject\",\n",
    "                \"s3:ListBucket\"\n",
    "            ],\n",
    "            \"Resource\": [\n",
    "                \"arn:aws:s3:::*\"\n",
    "            ]\n",
    "        }\n",
    "    ]\n",
    "}\n",
    "```"
   ]
  },
  {
   "cell_type": "markdown",
   "metadata": {},
   "source": [
    "S3 bucket에 모델을 tar.gz으로 압축하여 저장 후 해당 경로를 아래에 설정 "
   ]
  },
  {
   "cell_type": "code",
   "execution_count": 1,
   "metadata": {},
   "outputs": [],
   "source": [
    "import os\n",
    "import sagemaker\n",
    "from sagemaker import get_execution_role\n",
    "from sagemaker.tensorflow.serving import Model\n",
    "\n",
    "model_dir = os.path.join(os.getcwd(), 'model')\n",
    "os.makedirs(model_dir, exist_ok=True)\n",
    "\n",
    "sagemaker_session = sagemaker.Session()\n",
    "role = get_execution_role()\n",
    "\n",
    "bucket = 'sagemaker-ap-northeast-2-870180618679'\n",
    "prefix = 'cifar10-2020-07-08-03-12-58-984/output/'\n",
    "s3_path = 's3://{}/{}'.format(bucket, prefix)\n",
    "model=sagemaker_session.download_data(model_dir, bucket, os.path.join(prefix, 'model.tar.gz'))\n"
   ]
  },
  {
   "cell_type": "code",
   "execution_count": 2,
   "metadata": {},
   "outputs": [
    {
     "name": "stdout",
     "output_type": "stream",
     "text": [
      "checkpoint-5.h5\n",
      "checkpoint-3.h5\n",
      "checkpoint-4.h5\n",
      "checkpoint-2.h5\n",
      "1/\n",
      "1/assets/\n",
      "1/variables/\n",
      "1/variables/variables.data-00001-of-00002\n",
      "1/variables/variables.index\n",
      "1/variables/variables.data-00000-of-00002\n",
      "1/saved_model.pb\n",
      "checkpoint-1.h5\n"
     ]
    }
   ],
   "source": [
    "!cd model && tar -xzvf model.tar.gz \n"
   ]
  },
  {
   "cell_type": "code",
   "execution_count": 3,
   "metadata": {},
   "outputs": [
    {
     "name": "stdout",
     "output_type": "stream",
     "text": [
      "\u001b[01;34mmodel/\u001b[00m\n",
      "├── \u001b[01;34m1\u001b[00m\n",
      "│   ├── \u001b[01;34massets\u001b[00m\n",
      "│   ├── saved_model.pb\n",
      "│   └── \u001b[01;34mvariables\u001b[00m\n",
      "│       ├── variables.data-00000-of-00002\n",
      "│       ├── variables.data-00001-of-00002\n",
      "│       └── variables.index\n",
      "├── checkpoint-1.h5\n",
      "├── checkpoint-2.h5\n",
      "├── checkpoint-3.h5\n",
      "├── checkpoint-4.h5\n",
      "├── checkpoint-5.h5\n",
      "├── \u001b[01;34mcode\u001b[00m\n",
      "│   └── requirements.txt\n",
      "└── \u001b[01;31mmodel.tar.gz\u001b[00m\n",
      "\n",
      "4 directories, 11 files\n"
     ]
    }
   ],
   "source": [
    "!tree model/"
   ]
  },
  {
   "cell_type": "code",
   "execution_count": 4,
   "metadata": {},
   "outputs": [
    {
     "name": "stdout",
     "output_type": "stream",
     "text": [
      "mkdir: cannot create directory ‘model/code’: File exists\n"
     ]
    }
   ],
   "source": [
    "!mkdir model/code"
   ]
  },
  {
   "cell_type": "code",
   "execution_count": 5,
   "metadata": {},
   "outputs": [
    {
     "name": "stdout",
     "output_type": "stream",
     "text": [
      "\u001b[01;34mmodel/\u001b[00m\n",
      "├── \u001b[01;34m1\u001b[00m\n",
      "│   ├── \u001b[01;34massets\u001b[00m\n",
      "│   ├── saved_model.pb\n",
      "│   └── \u001b[01;34mvariables\u001b[00m\n",
      "│       ├── variables.data-00000-of-00002\n",
      "│       ├── variables.data-00001-of-00002\n",
      "│       └── variables.index\n",
      "├── checkpoint-1.h5\n",
      "├── checkpoint-2.h5\n",
      "├── checkpoint-3.h5\n",
      "├── checkpoint-4.h5\n",
      "├── checkpoint-5.h5\n",
      "├── \u001b[01;34mcode\u001b[00m\n",
      "│   └── requirements.txt\n",
      "└── \u001b[01;31mmodel.tar.gz\u001b[00m\n",
      "\n",
      "4 directories, 11 files\n"
     ]
    }
   ],
   "source": [
    "!tree model/"
   ]
  },
  {
   "cell_type": "code",
   "execution_count": 6,
   "metadata": {},
   "outputs": [
    {
     "name": "stdout",
     "output_type": "stream",
     "text": [
      "Overwriting model/code/requirements.txt\n"
     ]
    }
   ],
   "source": [
    "%%writefile model/code/requirements.txt\n",
    "\n",
    "jsonlines\n",
    "\n"
   ]
  },
  {
   "cell_type": "code",
   "execution_count": 7,
   "metadata": {},
   "outputs": [
    {
     "name": "stdout",
     "output_type": "stream",
     "text": [
      "\n",
      "jsonlines\n",
      "\n"
     ]
    }
   ],
   "source": [
    "!cat model/code/requirements.txt"
   ]
  },
  {
   "cell_type": "code",
   "execution_count": 8,
   "metadata": {},
   "outputs": [
    {
     "name": "stdout",
     "output_type": "stream",
     "text": [
      "./\n",
      "./checkpoint-2.h5\n",
      "./checkpoint-3.h5\n",
      "./checkpoint-4.h5\n",
      "./checkpoint-5.h5\n",
      "./1/\n",
      "./1/saved_model.pb\n",
      "./1/assets/\n",
      "./1/variables/\n",
      "./1/variables/variables.index\n",
      "./1/variables/variables.data-00000-of-00002\n",
      "./1/variables/variables.data-00001-of-00002\n",
      "./checkpoint-1.h5\n",
      "./code/\n",
      "./code/requirements.txt\n",
      "tar: .: file changed as we read it\n"
     ]
    }
   ],
   "source": [
    "!rm model/model.tar.gz\n",
    "!cd model/ && tar -zcvf  model.tar.gz ."
   ]
  },
  {
   "cell_type": "code",
   "execution_count": 9,
   "metadata": {},
   "outputs": [],
   "source": [
    "model_data = sagemaker_session.upload_data('model/model.tar.gz',\n",
    "                                           bucket,\n",
    "                                           os.path.join(prefix, 'model'))"
   ]
  },
  {
   "cell_type": "code",
   "execution_count": 10,
   "metadata": {},
   "outputs": [
    {
     "name": "stderr",
     "output_type": "stream",
     "text": [
      "Parameter image will be renamed to image_uri in SageMaker Python SDK v2.\n",
      "'create_image_uri' will be deprecated in favor of 'ImageURIProvider' class in SageMaker Python SDK v2.\n"
     ]
    },
    {
     "name": "stdout",
     "output_type": "stream",
     "text": [
      "-------------!"
     ]
    }
   ],
   "source": [
    "\n",
    "# The \"Model\" object doesn't create a SageMaker Model until a Transform Job or Endpoint is created.\n",
    "#model_data='s3://sagemaker-ap-northeast-2-870180618679/cifar10-2020-07-01-02-47-56-774/output/model.tar.gz'\n",
    "model = Model(model_data=model_data,\n",
    "                                 role=role,\n",
    "                                 framework_version='2.1',\n",
    "                                 sagemaker_session=sagemaker_session)\n",
    "predictor = model.deploy(initial_instance_count=1, instance_type='ml.g4dn.xlarge')"
   ]
  },
  {
   "cell_type": "markdown",
   "metadata": {},
   "source": [
    "아래 코드 셀을 통해 SageMaker 엔드포인트(endpoint)를 생성합니다. 배포 인스턴스를 시작하기 때문에 약 7분에서 10분의 시간이 소요됩니다. "
   ]
  },
  {
   "cell_type": "markdown",
   "metadata": {},
   "source": [
    "## Make some predictions\n",
    "\n",
    "엔드포인트(endpoint)가 정상적으로 작동하는지 검증하기 위해, 여러분께서는 랜덤 데이터를 생성하여 예측(prediction)을 수행합니다."
   ]
  },
  {
   "cell_type": "code",
   "execution_count": 11,
   "metadata": {
    "scrolled": true
   },
   "outputs": [
    {
     "name": "stdout",
     "output_type": "stream",
     "text": [
      "Predicted class is 3\n"
     ]
    }
   ],
   "source": [
    "# Creating fake prediction data\n",
    "import numpy as np\n",
    "data = np.random.randn(1, 32, 32, 3)\n",
    "\n",
    "print(\"Predicted class is {}\".format(np.argmax(predictor.predict(data)['predictions'])))"
   ]
  },
  {
   "cell_type": "markdown",
   "metadata": {},
   "source": [
    "### Calculating accuracy and create a confusion matrix based on the test dataset\n",
    "\n",
    "엔드포인트가 예상대로 작동하는 것을 확인했습니다. 이제 예측을 위해 테스트 데이터셋을 사용하고 모델 정확도(accuracy)를 계산합니다."
   ]
  },
  {
   "cell_type": "code",
   "execution_count": 12,
   "metadata": {},
   "outputs": [
    {
     "name": "stderr",
     "output_type": "stream",
     "text": [
      "Using TensorFlow backend.\n"
     ]
    },
    {
     "name": "stdout",
     "output_type": "stream",
     "text": [
      "WARNING:tensorflow:From /home/ec2-user/anaconda3/envs/tensorflow_p36/lib/python3.6/site-packages/tensorflow_core/__init__.py:1473: The name tf.estimator.inputs is deprecated. Please use tf.compat.v1.estimator.inputs instead.\n",
      "\n",
      "Downloading data from https://www.cs.toronto.edu/~kriz/cifar-10-python.tar.gz\n",
      "170500096/170498071 [==============================] - 21s 0us/step\n"
     ]
    }
   ],
   "source": [
    "from keras.datasets import cifar10\n",
    "from keras.preprocessing.image import ImageDataGenerator\n",
    "from sklearn.metrics import confusion_matrix\n",
    "datagen = ImageDataGenerator()\n",
    "\n",
    "(x_train, y_train), (x_test, y_test) = cifar10.load_data()\n",
    "\n",
    "def predict(data):\n",
    "    predictions = predictor.predict(data)['predictions']\n",
    "    return predictions"
   ]
  },
  {
   "cell_type": "code",
   "execution_count": 13,
   "metadata": {},
   "outputs": [
    {
     "name": "stdout",
     "output_type": "stream",
     "text": [
      "CPU times: user 22.3 s, sys: 1.01 s, total: 23.3 s\n",
      "Wall time: 29.6 s\n"
     ]
    }
   ],
   "source": [
    "%%time\n",
    "batch_size = 128\n",
    "predicted = []\n",
    "actual = []\n",
    "batches = 0\n",
    "for data in datagen.flow(x_test, y_test, batch_size=batch_size):\n",
    "    for i,prediction in enumerate(predict(data[0])):\n",
    "        predicted.append(np.argmax(prediction))\n",
    "        actual.append(data[1][i][0])\n",
    "    batches += 1\n",
    "    if batches >= len(x_test) / batch_size:\n",
    "        break"
   ]
  },
  {
   "cell_type": "code",
   "execution_count": 14,
   "metadata": {},
   "outputs": [
    {
     "data": {
      "text/plain": [
       "'Average accuracy: 62.02%'"
      ]
     },
     "metadata": {},
     "output_type": "display_data"
    }
   ],
   "source": [
    "from sklearn.metrics import accuracy_score, confusion_matrix\n",
    "\n",
    "accuracy = accuracy_score(y_pred=predicted,y_true=actual)\n",
    "display('Average accuracy: {}%'.format(round(accuracy*100,2)))"
   ]
  },
  {
   "cell_type": "code",
   "execution_count": 15,
   "metadata": {},
   "outputs": [
    {
     "data": {
      "text/plain": [
       "<matplotlib.axes._subplots.AxesSubplot at 0x7f7ef1a6ea58>"
      ]
     },
     "execution_count": 15,
     "metadata": {},
     "output_type": "execute_result"
    },
    {
     "data": {
      "image/png": "[encoded data removed]",
      "text/plain": [
       "<Figure size 842.4x595.44 with 2 Axes>"
      ]
     },
     "metadata": {},
     "output_type": "display_data"
    }
   ],
   "source": [
    "%matplotlib inline\n",
    "import seaborn as sn\n",
    "import pandas as pd\n",
    "import matplotlib.pyplot as plt\n",
    "\n",
    "cm = confusion_matrix(y_pred=predicted,y_true=actual)\n",
    "cm = cm.astype('float') / cm.sum(axis=1)[:, np.newaxis]\n",
    "sn.set(rc={'figure.figsize': (11.7,8.27)})\n",
    "sn.set(font_scale=1.4) #for label size\n",
    "sn.heatmap(cm, annot=True, annot_kws={\"size\": 10})# font size"
   ]
  },
  {
   "cell_type": "markdown",
   "metadata": {},
   "source": [
    "히트맵을 사용하여 각 레이블마다의 accuracy를 계산할 수 있습니다."
   ]
  },
  {
   "cell_type": "markdown",
   "metadata": {},
   "source": [
    "# Cleaning up\n",
    "본 워크샵에서 사용한 리소스에 대해 여러분의 AWS 계정에 과금되지 않도록 하려면 SageMaker Endpoint를 삭제해야 합니다."
   ]
  },
  {
   "cell_type": "code",
   "execution_count": 16,
   "metadata": {},
   "outputs": [],
   "source": [
    "sagemaker_session.delete_endpoint(predictor.endpoint)"
   ]
  },
  {
   "cell_type": "code",
   "execution_count": null,
   "metadata": {},
   "outputs": [],
   "source": []
  }
 ],
 "metadata": {
  "kernelspec": {
   "display_name": "conda_tensorflow_p36",
   "language": "python",
   "name": "conda_tensorflow_p36"
  },
  "language_info": {
   "codemirror_mode": {
    "name": "ipython",
    "version": 3
   },
   "file_extension": ".py",
   "mimetype": "text/x-python",
   "name": "python",
   "nbconvert_exporter": "python",
   "pygments_lexer": "ipython3",
   "version": "3.6.10"
  }
 },
 "nbformat": 4,
 "nbformat_minor": 4
}
